{
 "cells": [
  {
   "cell_type": "code",
   "execution_count": 7,
   "metadata": {},
   "outputs": [],
   "source": [
    "import pysrt"
   ]
  },
  {
   "cell_type": "code",
   "execution_count": 10,
   "metadata": {},
   "outputs": [],
   "source": [
    "legend = pysrt.open(\"../data/example.srt\")"
   ]
  },
  {
   "cell_type": "code",
   "execution_count": 13,
   "metadata": {},
   "outputs": [
    {
     "data": {
      "text/plain": [
       "(SubRipFile([<pysrt.srtitem.SubRipItem at 0x1f01ebb2a10>,\n",
       "             <pysrt.srtitem.SubRipItem at 0x1f01ebb2dd0>,\n",
       "             <pysrt.srtitem.SubRipItem at 0x1f01ebb39d0>,\n",
       "             <pysrt.srtitem.SubRipItem at 0x1f01ebb02b0>,\n",
       "             <pysrt.srtitem.SubRipItem at 0x1f01ebb05e0>,\n",
       "             <pysrt.srtitem.SubRipItem at 0x1f01ebb04f0>,\n",
       "             <pysrt.srtitem.SubRipItem at 0x1f01ebb0400>,\n",
       "             <pysrt.srtitem.SubRipItem at 0x1f01ebb0700>,\n",
       "             <pysrt.srtitem.SubRipItem at 0x1f01ebb0c10>]),\n",
       " 9)"
      ]
     },
     "execution_count": 13,
     "metadata": {},
     "output_type": "execute_result"
    }
   ],
   "source": [
    "legend, len(legend)"
   ]
  },
  {
   "cell_type": "code",
   "execution_count": 15,
   "metadata": {},
   "outputs": [
    {
     "data": {
      "text/plain": [
       "'Welcome to the Example Subtitle File!'"
      ]
     },
     "execution_count": 15,
     "metadata": {},
     "output_type": "execute_result"
    }
   ],
   "source": [
    "legend[0].text"
   ]
  }
 ],
 "metadata": {
  "kernelspec": {
   "display_name": "Python 3",
   "language": "python",
   "name": "python3"
  },
  "language_info": {
   "codemirror_mode": {
    "name": "ipython",
    "version": 3
   },
   "file_extension": ".py",
   "mimetype": "text/x-python",
   "name": "python",
   "nbconvert_exporter": "python",
   "pygments_lexer": "ipython3",
   "version": "3.10.14"
  }
 },
 "nbformat": 4,
 "nbformat_minor": 2
}
